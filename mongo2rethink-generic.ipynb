{
 "metadata": {
  "name": "",
  "signature": "sha256:051ec69baada0f1353ec9500b4e0941736e792e129541b14977abfe9250d4028"
 },
 "nbformat": 3,
 "nbformat_minor": 0,
 "worksheets": [
  {
   "cells": [
    {
     "cell_type": "code",
     "collapsed": false,
     "input": [
      "import pymongo\n",
      "import time\n",
      "import rethinkdb as r\n",
      "import sjbsettings\n",
      "import inspect\n",
      "import datetime\n",
      "from pymongo import MongoClient\n",
      "client = MongoClient(host=sjbsettings.sjb['MHOST'])\n",
      "DBNAME = 'demomodel'\n",
      "db = client[DBNAME]\n",
      "REMOVE_COLS = set(['_properties', 'system.indexes'])"
     ],
     "language": "python",
     "metadata": {},
     "outputs": [],
     "prompt_number": 1
    },
    {
     "cell_type": "code",
     "collapsed": false,
     "input": [
      "rt_conn = r.connect(db = 'demomodel', host=sjbsettings.sjb['MHOST']).repl()"
     ],
     "language": "python",
     "metadata": {},
     "outputs": [],
     "prompt_number": 2
    },
    {
     "cell_type": "code",
     "collapsed": false,
     "input": [
      "db.collection_names()"
     ],
     "language": "python",
     "metadata": {},
     "outputs": [
      {
       "metadata": {},
       "output_type": "pyout",
       "prompt_number": 3,
       "text": [
        "['_properties',\n",
        " 'features',\n",
        " 'features_social',\n",
        " 'metadata',\n",
        " 'prediction',\n",
        " 'rawdata_lab',\n",
        " 'rawdata_sensor',\n",
        " 'system.indexes',\n",
        " 'users']"
       ]
      }
     ],
     "prompt_number": 3
    },
    {
     "cell_type": "code",
     "collapsed": false,
     "input": [
      "def getMongoCollections(db):\n",
      "    colset = set(db.collection_names())\n",
      "    return(set.difference(colset, REMOVE_COLS))"
     ],
     "language": "python",
     "metadata": {},
     "outputs": [],
     "prompt_number": 4
    },
    {
     "cell_type": "code",
     "collapsed": false,
     "input": [
      "\n",
      "def transform_mongo_doc_to_rethink_doc(mdoc):\n",
      "    for k,v in mdoc.items():\n",
      "        ## fix subdocuments\n",
      "        if(type(v) == dict):\n",
      "            mdoc[k] = transform_mongo_doc_to_rethink_doc(v)\n",
      "        \n",
      "        ## fix timezone\n",
      "        if(type(v) == datetime.datetime):\n",
      "            mdoc[k] = v.replace(tzinfo=r.make_timezone('0:00'))\n",
      "    \n",
      "        ## fix object id\n",
      "#        if k == \"_id\":\n",
      "#            mdoc[k] = str(v)\n",
      "            \n",
      "        ## fix object id's a different way\n",
      "        if(type(k) == bson.objectid.ObjectId):\n",
      "            mdoc[k] = str(v)\n",
      "    return(mdoc)"
     ],
     "language": "python",
     "metadata": {},
     "outputs": [],
     "prompt_number": 17
    },
    {
     "cell_type": "code",
     "collapsed": false,
     "input": [
      "getMongoCollections(db)"
     ],
     "language": "python",
     "metadata": {},
     "outputs": [
      {
       "metadata": {},
       "output_type": "pyout",
       "prompt_number": 6,
       "text": [
        "{'features',\n",
        " 'features_social',\n",
        " 'metadata',\n",
        " 'prediction',\n",
        " 'rawdata_lab',\n",
        " 'rawdata_sensor',\n",
        " 'users'}"
       ]
      }
     ],
     "prompt_number": 6
    },
    {
     "cell_type": "code",
     "collapsed": false,
     "input": [
      "rt_collections = r.db(DBNAME).table_list().run(rt_conn)\n",
      "\n",
      "collections_in_mongo_not_rt = set.difference(getMongoCollections(db), set(rt_collections))\n",
      "collections_in_mongo_not_rt\n",
      "\n",
      "for missing_collection in collections_in_mongo_not_rt:\n",
      "    print(\"Creating \" + missing_collection + \" which was missing in rethink\")\n",
      "    r.db(DBNAME).table_create(missing_collection).run(rt_conn)"
     ],
     "language": "python",
     "metadata": {},
     "outputs": [
      {
       "ename": "KeyboardInterrupt",
       "evalue": "",
       "output_type": "pyerr",
       "traceback": [
        "\u001b[0;31m---------------------------------------------------------------------------\u001b[0m\n\u001b[0;31mKeyboardInterrupt\u001b[0m                         Traceback (most recent call last)",
        "\u001b[0;32m<ipython-input-18-1e09b919c026>\u001b[0m in \u001b[0;36m<module>\u001b[0;34m()\u001b[0m\n\u001b[0;32m----> 1\u001b[0;31m \u001b[0mrt_collections\u001b[0m \u001b[0;34m=\u001b[0m \u001b[0mr\u001b[0m\u001b[0;34m.\u001b[0m\u001b[0mdb\u001b[0m\u001b[0;34m(\u001b[0m\u001b[0mDBNAME\u001b[0m\u001b[0;34m)\u001b[0m\u001b[0;34m.\u001b[0m\u001b[0mtable_list\u001b[0m\u001b[0;34m(\u001b[0m\u001b[0;34m)\u001b[0m\u001b[0;34m.\u001b[0m\u001b[0mrun\u001b[0m\u001b[0;34m(\u001b[0m\u001b[0mrt_conn\u001b[0m\u001b[0;34m)\u001b[0m\u001b[0;34m\u001b[0m\u001b[0m\n\u001b[0m\u001b[1;32m      2\u001b[0m \u001b[0;34m\u001b[0m\u001b[0m\n\u001b[1;32m      3\u001b[0m \u001b[0mcollections_in_mongo_not_rt\u001b[0m \u001b[0;34m=\u001b[0m \u001b[0mset\u001b[0m\u001b[0;34m.\u001b[0m\u001b[0mdifference\u001b[0m\u001b[0;34m(\u001b[0m\u001b[0mgetMongoCollections\u001b[0m\u001b[0;34m(\u001b[0m\u001b[0mdb\u001b[0m\u001b[0;34m)\u001b[0m\u001b[0;34m,\u001b[0m \u001b[0mset\u001b[0m\u001b[0;34m(\u001b[0m\u001b[0mrt_collections\u001b[0m\u001b[0;34m)\u001b[0m\u001b[0;34m)\u001b[0m\u001b[0;34m\u001b[0m\u001b[0m\n\u001b[1;32m      4\u001b[0m \u001b[0mcollections_in_mongo_not_rt\u001b[0m\u001b[0;34m\u001b[0m\u001b[0m\n\u001b[1;32m      5\u001b[0m \u001b[0;34m\u001b[0m\u001b[0m\n",
        "\u001b[0;32m/usr/local/lib/python3.4/dist-packages/rethinkdb/ast.py\u001b[0m in \u001b[0;36mrun\u001b[0;34m(self, c, **global_optargs)\u001b[0m\n\u001b[1;32m     95\u001b[0m                                      \" a connection to run on.\")\n\u001b[1;32m     96\u001b[0m \u001b[0;34m\u001b[0m\u001b[0m\n\u001b[0;32m---> 97\u001b[0;31m         \u001b[0;32mreturn\u001b[0m \u001b[0mc\u001b[0m\u001b[0;34m.\u001b[0m\u001b[0m_start\u001b[0m\u001b[0;34m(\u001b[0m\u001b[0mself\u001b[0m\u001b[0;34m,\u001b[0m \u001b[0;34m**\u001b[0m\u001b[0mglobal_optargs\u001b[0m\u001b[0;34m)\u001b[0m\u001b[0;34m\u001b[0m\u001b[0m\n\u001b[0m\u001b[1;32m     98\u001b[0m \u001b[0;34m\u001b[0m\u001b[0m\n\u001b[1;32m     99\u001b[0m     \u001b[0;32mdef\u001b[0m \u001b[0m__str__\u001b[0m\u001b[0;34m(\u001b[0m\u001b[0mself\u001b[0m\u001b[0;34m)\u001b[0m\u001b[0;34m:\u001b[0m\u001b[0;34m\u001b[0m\u001b[0m\n",
        "\u001b[0;32m/usr/local/lib/python3.4/dist-packages/rethinkdb/net.py\u001b[0m in \u001b[0;36m_start\u001b[0;34m(self, term, **global_optargs)\u001b[0m\n\u001b[1;32m    518\u001b[0m             \u001b[0mglobal_optargs\u001b[0m\u001b[0;34m[\u001b[0m\u001b[0;34m'db'\u001b[0m\u001b[0;34m]\u001b[0m \u001b[0;34m=\u001b[0m \u001b[0mDB\u001b[0m\u001b[0;34m(\u001b[0m\u001b[0mglobal_optargs\u001b[0m\u001b[0;34m.\u001b[0m\u001b[0mget\u001b[0m\u001b[0;34m(\u001b[0m\u001b[0;34m'db'\u001b[0m\u001b[0;34m,\u001b[0m \u001b[0mself\u001b[0m\u001b[0;34m.\u001b[0m\u001b[0mdb\u001b[0m\u001b[0;34m)\u001b[0m\u001b[0;34m)\u001b[0m\u001b[0;34m\u001b[0m\u001b[0m\n\u001b[1;32m    519\u001b[0m         \u001b[0mq\u001b[0m \u001b[0;34m=\u001b[0m \u001b[0mQuery\u001b[0m\u001b[0;34m(\u001b[0m\u001b[0mpQuery\u001b[0m\u001b[0;34m.\u001b[0m\u001b[0mSTART\u001b[0m\u001b[0;34m,\u001b[0m \u001b[0mself\u001b[0m\u001b[0;34m.\u001b[0m\u001b[0m_new_token\u001b[0m\u001b[0;34m(\u001b[0m\u001b[0;34m)\u001b[0m\u001b[0;34m,\u001b[0m \u001b[0mterm\u001b[0m\u001b[0;34m,\u001b[0m \u001b[0mglobal_optargs\u001b[0m\u001b[0;34m)\u001b[0m\u001b[0;34m\u001b[0m\u001b[0m\n\u001b[0;32m--> 520\u001b[0;31m         \u001b[0;32mreturn\u001b[0m \u001b[0mself\u001b[0m\u001b[0;34m.\u001b[0m\u001b[0m_instance\u001b[0m\u001b[0;34m.\u001b[0m\u001b[0mrun_query\u001b[0m\u001b[0;34m(\u001b[0m\u001b[0mq\u001b[0m\u001b[0;34m,\u001b[0m \u001b[0mglobal_optargs\u001b[0m\u001b[0;34m.\u001b[0m\u001b[0mget\u001b[0m\u001b[0;34m(\u001b[0m\u001b[0;34m'noreply'\u001b[0m\u001b[0;34m,\u001b[0m \u001b[0;32mFalse\u001b[0m\u001b[0;34m)\u001b[0m\u001b[0;34m)\u001b[0m\u001b[0;34m\u001b[0m\u001b[0m\n\u001b[0m\u001b[1;32m    521\u001b[0m \u001b[0;34m\u001b[0m\u001b[0m\n\u001b[1;32m    522\u001b[0m     \u001b[0;32mdef\u001b[0m \u001b[0m_continue\u001b[0m\u001b[0;34m(\u001b[0m\u001b[0mself\u001b[0m\u001b[0;34m,\u001b[0m \u001b[0mcursor\u001b[0m\u001b[0;34m)\u001b[0m\u001b[0;34m:\u001b[0m\u001b[0;34m\u001b[0m\u001b[0m\n",
        "\u001b[0;32m/usr/local/lib/python3.4/dist-packages/rethinkdb/net.py\u001b[0m in \u001b[0;36mrun_query\u001b[0;34m(self, query, noreply)\u001b[0m\n\u001b[1;32m    386\u001b[0m \u001b[0;34m\u001b[0m\u001b[0m\n\u001b[1;32m    387\u001b[0m         \u001b[0;31m# Get response\u001b[0m\u001b[0;34m\u001b[0m\u001b[0;34m\u001b[0m\u001b[0m\n\u001b[0;32m--> 388\u001b[0;31m         \u001b[0mres\u001b[0m \u001b[0;34m=\u001b[0m \u001b[0mself\u001b[0m\u001b[0;34m.\u001b[0m\u001b[0m_read_response\u001b[0m\u001b[0;34m(\u001b[0m\u001b[0mquery\u001b[0m\u001b[0;34m.\u001b[0m\u001b[0mtoken\u001b[0m\u001b[0;34m)\u001b[0m\u001b[0;34m\u001b[0m\u001b[0m\n\u001b[0m\u001b[1;32m    389\u001b[0m \u001b[0;34m\u001b[0m\u001b[0m\n\u001b[1;32m    390\u001b[0m         \u001b[0;32mif\u001b[0m \u001b[0mres\u001b[0m\u001b[0;34m.\u001b[0m\u001b[0mtype\u001b[0m \u001b[0;34m==\u001b[0m \u001b[0mpResponse\u001b[0m\u001b[0;34m.\u001b[0m\u001b[0mSUCCESS_ATOM\u001b[0m\u001b[0;34m:\u001b[0m\u001b[0;34m\u001b[0m\u001b[0m\n",
        "\u001b[0;32m/usr/local/lib/python3.4/dist-packages/rethinkdb/net.py\u001b[0m in \u001b[0;36m_read_response\u001b[0;34m(self, token, deadline)\u001b[0m\n\u001b[1;32m    419\u001b[0m                 \u001b[0;31m# then create a new connection for the user's convenience.\u001b[0m\u001b[0;34m\u001b[0m\u001b[0;34m\u001b[0m\u001b[0m\n\u001b[1;32m    420\u001b[0m                 \u001b[0mself\u001b[0m\u001b[0;34m.\u001b[0m\u001b[0m_parent\u001b[0m\u001b[0;34m.\u001b[0m\u001b[0mreconnect\u001b[0m\u001b[0;34m(\u001b[0m\u001b[0mnoreply_wait\u001b[0m\u001b[0;34m=\u001b[0m\u001b[0;32mFalse\u001b[0m\u001b[0;34m)\u001b[0m\u001b[0;34m\u001b[0m\u001b[0m\n\u001b[0;32m--> 421\u001b[0;31m                 \u001b[0;32mraise\u001b[0m \u001b[0mex\u001b[0m\u001b[0;34m\u001b[0m\u001b[0m\n\u001b[0m\u001b[1;32m    422\u001b[0m \u001b[0;34m\u001b[0m\u001b[0m\n\u001b[1;32m    423\u001b[0m             \u001b[0;31m# Construct response\u001b[0m\u001b[0;34m\u001b[0m\u001b[0;34m\u001b[0m\u001b[0m\n",
        "\u001b[0;32m/usr/local/lib/python3.4/dist-packages/rethinkdb/net.py\u001b[0m in \u001b[0;36m_read_response\u001b[0;34m(self, token, deadline)\u001b[0m\n\u001b[1;32m    410\u001b[0m                 \u001b[0;32mif\u001b[0m \u001b[0mself\u001b[0m\u001b[0;34m.\u001b[0m\u001b[0m_header_in_progress\u001b[0m \u001b[0;32mis\u001b[0m \u001b[0;32mNone\u001b[0m\u001b[0;34m:\u001b[0m\u001b[0;34m\u001b[0m\u001b[0m\n\u001b[1;32m    411\u001b[0m                     \u001b[0mself\u001b[0m\u001b[0;34m.\u001b[0m\u001b[0m_header_in_progress\u001b[0m\u001b[0;31m \u001b[0m\u001b[0;31m\\\u001b[0m\u001b[0;34m\u001b[0m\u001b[0m\n\u001b[0;32m--> 412\u001b[0;31m                         \u001b[0;34m=\u001b[0m \u001b[0mself\u001b[0m\u001b[0;34m.\u001b[0m\u001b[0m_socket\u001b[0m\u001b[0;34m.\u001b[0m\u001b[0mrecvall\u001b[0m\u001b[0;34m(\u001b[0m\u001b[0;36m12\u001b[0m\u001b[0;34m,\u001b[0m \u001b[0mdeadline\u001b[0m\u001b[0;34m)\u001b[0m\u001b[0;34m\u001b[0m\u001b[0m\n\u001b[0m\u001b[1;32m    413\u001b[0m                 \u001b[0;34m(\u001b[0m\u001b[0mres_token\u001b[0m\u001b[0;34m,\u001b[0m \u001b[0mres_len\u001b[0m\u001b[0;34m,\u001b[0m\u001b[0;34m)\u001b[0m\u001b[0;31m \u001b[0m\u001b[0;31m\\\u001b[0m\u001b[0;34m\u001b[0m\u001b[0m\n\u001b[1;32m    414\u001b[0m                     \u001b[0;34m=\u001b[0m \u001b[0mstruct\u001b[0m\u001b[0;34m.\u001b[0m\u001b[0munpack\u001b[0m\u001b[0;34m(\u001b[0m\u001b[0;34m\"<qL\"\u001b[0m\u001b[0;34m,\u001b[0m \u001b[0mself\u001b[0m\u001b[0;34m.\u001b[0m\u001b[0m_header_in_progress\u001b[0m\u001b[0;34m)\u001b[0m\u001b[0;34m\u001b[0m\u001b[0m\n",
        "\u001b[0;32m/usr/local/lib/python3.4/dist-packages/rethinkdb/net.py\u001b[0m in \u001b[0;36mrecvall\u001b[0;34m(self, length, deadline)\u001b[0m\n\u001b[1;32m    294\u001b[0m             \u001b[0;32mwhile\u001b[0m \u001b[0;32mTrue\u001b[0m\u001b[0;34m:\u001b[0m\u001b[0;34m\u001b[0m\u001b[0m\n\u001b[1;32m    295\u001b[0m                 \u001b[0;32mtry\u001b[0m\u001b[0;34m:\u001b[0m\u001b[0;34m\u001b[0m\u001b[0m\n\u001b[0;32m--> 296\u001b[0;31m                     \u001b[0mchunk\u001b[0m \u001b[0;34m=\u001b[0m \u001b[0mself\u001b[0m\u001b[0;34m.\u001b[0m\u001b[0m_socket\u001b[0m\u001b[0;34m.\u001b[0m\u001b[0mrecv\u001b[0m\u001b[0;34m(\u001b[0m\u001b[0mlength\u001b[0m \u001b[0;34m-\u001b[0m \u001b[0mlen\u001b[0m\u001b[0;34m(\u001b[0m\u001b[0mres\u001b[0m\u001b[0;34m)\u001b[0m\u001b[0;34m)\u001b[0m\u001b[0;34m\u001b[0m\u001b[0m\n\u001b[0m\u001b[1;32m    297\u001b[0m                     \u001b[0mself\u001b[0m\u001b[0;34m.\u001b[0m\u001b[0m_socket\u001b[0m\u001b[0;34m.\u001b[0m\u001b[0msettimeout\u001b[0m\u001b[0;34m(\u001b[0m\u001b[0;32mNone\u001b[0m\u001b[0;34m)\u001b[0m\u001b[0;34m\u001b[0m\u001b[0m\n\u001b[1;32m    298\u001b[0m                     \u001b[0;32mbreak\u001b[0m\u001b[0;34m\u001b[0m\u001b[0m\n",
        "\u001b[0;31mKeyboardInterrupt\u001b[0m: "
       ]
      }
     ],
     "prompt_number": 18
    },
    {
     "cell_type": "code",
     "collapsed": false,
     "input": [
      "## the main loop\n",
      "\n",
      "cols = list(getMongoCollections(db))\n",
      "##cols = [\"rawdata_sensor\"]\n",
      "query = { \"$or\" :  [ {\"rethink_mirrored\" : {\"$exists\" : False}}, { \"rethink_mirrored\" : False}]}\n",
      "\n",
      "for collection in cols:\n",
      "    ## find all entries that \n",
      "    ##   1) do not have a rethink_mirrored flag, or \n",
      "    ##   2) rethink_mirrored == false\n",
      "    ## db.prediction.find({ $or :  [ {\"rethink_mirrored\" : {\"$exists\" : false}}, { rethink_mirrored : false}]})\n",
      "    \n",
      "    cur_col = db[collection]\n",
      "    print(collection + \"\\t\\t\" + str(cur_col.count(query)) + \" unmirrored docs\")\n",
      "\n",
      "    for doc in cur_col.find(query):\n",
      "        rt_doc = transform_mongo_doc_to_rethink_doc(doc)\n",
      "        rt_doc['rethink_mirrored'] = True ## this becomes true on the next line\n",
      "        r.table(collection).insert(rt_doc).run(rt_conn)\n",
      "        # print(\"\\t Mirroring \" + str(doc['_id']) + \" in \" + collection)\n",
      "        \n",
      "    \n",
      "    ## update mongo to state that these documentrs are now mirrored\n",
      "    ud_res = cur_col.update_many(query, {\"$set\" : {\"rethink_mirrored\" : True}}, upsert = False)\n",
      "    print(\"\\tUpdate success?\" + str(ud_res.acknowledged))"
     ],
     "language": "python",
     "metadata": {},
     "outputs": []
    },
    {
     "cell_type": "code",
     "collapsed": false,
     "input": [
      "pred_db = db.prediction\n",
      "pred_db.find_one()\n",
      "type(pred_db.find_one()['update_t'])"
     ],
     "language": "python",
     "metadata": {},
     "outputs": [
      {
       "metadata": {},
       "output_type": "pyout",
       "prompt_number": 27,
       "text": [
        "datetime.datetime"
       ]
      }
     ],
     "prompt_number": 27
    },
    {
     "cell_type": "code",
     "collapsed": false,
     "input": [
      "pred_db = db.prediction\n",
      "p1 = pred_db.find_one()\n",
      "p1.keys()\n",
      "print(str(p1))\n",
      "nv = transform_mongo_doc_to_rethink_doc(p1)\n",
      "print(str(nv))"
     ],
     "language": "python",
     "metadata": {},
     "outputs": [
      {
       "output_type": "stream",
       "stream": "stdout",
       "text": [
        "{'_id': ObjectId('55998cbd17005e2fbf23db7a'), 'rethink_mirrored': True, 'uid': 'a1', 'update_t': datetime.datetime(2015, 7, 6, 23, 35, 9, 244000), 'dm_prob': 66.23333333333333, 'loadings': {'mv_avg__steps5': 36.0, 'mv_avg__mins_cardio5': -0.16666666666666666, 'mv_avg__peak_hr5': 0.4}}\n",
        "{'_id': '55998cbd17005e2fbf23db7a', 'rethink_mirrored': True, 'uid': 'a1', 'update_t': datetime.datetime(2015, 7, 6, 23, 35, 9, 244000, tzinfo=<rethinkdb.ast.RqlTzinfo object at 0x7fad740ca940>), 'dm_prob': 66.23333333333333, 'loadings': {'mv_avg__steps5': 36.0, 'mv_avg__mins_cardio5': -0.16666666666666666, 'mv_avg__peak_hr5': 0.4}}\n"
       ]
      }
     ],
     "prompt_number": 10
    },
    {
     "cell_type": "code",
     "collapsed": false,
     "input": [
      "rs1 = db.rawdata_sensor.find_one()\n",
      "print(str(type(rs1['_id'])))"
     ],
     "language": "python",
     "metadata": {},
     "outputs": [
      {
       "output_type": "stream",
       "stream": "stdout",
       "text": [
        "<class 'bson.objectid.ObjectId'>\n"
       ]
      }
     ],
     "prompt_number": 14
    },
    {
     "cell_type": "code",
     "collapsed": false,
     "input": [
      "print(str(transform_mongo_doc_to_rethink_doc(p1)))"
     ],
     "language": "python",
     "metadata": {},
     "outputs": [
      {
       "output_type": "stream",
       "stream": "stdout",
       "text": [
        "{'uid': 'a1', 'loadings': {'mv_avg__peak_hr5': 0.4, 'mv_avg__mins_cardio5': -0.16666666666666666, 'mv_avg__steps5': 36.0}, '_id': ObjectId('55998cbd17005e2fbf23db7a'), 'dm_prob': 66.23333333333333, 'update_t': datetime.datetime(2015, 7, 6, 23, 35, 9, 244000, tzinfo=<rethinkdb.ast.RqlTzinfo object at 0x7f0e58628940>)}\n"
       ]
      }
     ],
     "prompt_number": 71
    }
   ],
   "metadata": {}
  }
 ]
}