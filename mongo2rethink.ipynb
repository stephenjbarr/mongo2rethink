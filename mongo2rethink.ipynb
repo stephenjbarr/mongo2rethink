{
 "metadata": {
  "name": "",
  "signature": "sha256:708e66a74d1d06528c82ba97ac9deb5fb72a733d8e702a57775897034669cee8"
 },
 "nbformat": 3,
 "nbformat_minor": 0,
 "worksheets": [
  {
   "cells": [
    {
     "cell_type": "code",
     "collapsed": false,
     "input": [
      "import pymongo\n",
      "import time"
     ],
     "language": "python",
     "metadata": {},
     "outputs": [],
     "prompt_number": 5
    },
    {
     "cell_type": "code",
     "collapsed": false,
     "input": [
      "import rethinkdb as r\n",
      "import sjbsettings"
     ],
     "language": "python",
     "metadata": {},
     "outputs": [],
     "prompt_number": 6
    },
    {
     "cell_type": "code",
     "collapsed": false,
     "input": [
      "from pymongo import MongoClient\n",
      "client = MongoClient(host=sjbsettings.sjb['MHOST'])"
     ],
     "language": "python",
     "metadata": {},
     "outputs": [],
     "prompt_number": 10
    },
    {
     "cell_type": "code",
     "collapsed": false,
     "input": [
      "db = client['demomodel']\n",
      "preds = db['prediction']"
     ],
     "language": "python",
     "metadata": {},
     "outputs": [],
     "prompt_number": 11
    },
    {
     "cell_type": "code",
     "collapsed": false,
     "input": [
      "conn = r.connect(db = 'demomodel').repl()\n",
      "for pred in r.table('prediction').run(conn):\n",
      "    print(pred)\n"
     ],
     "language": "python",
     "metadata": {},
     "outputs": [],
     "prompt_number": 13
    },
    {
     "cell_type": "code",
     "collapsed": false,
     "input": [
      "seen_keys = {}"
     ],
     "language": "python",
     "metadata": {},
     "outputs": [],
     "prompt_number": 47
    },
    {
     "cell_type": "code",
     "collapsed": false,
     "input": [
      "insert_into_rethink = False\n",
      "rep_lim = 100\n",
      "rep_ct  = 0\n",
      "while rep_ct < rep_lim:\n",
      "    for pred in preds.find():\n",
      "        pid = pred['_id']\n",
      "        if pid not in list(seen_keys.keys()):\n",
      "            # print(str(pred) + \" is new!\")\n",
      "            # print(str(r.iso8601(pred['update_t'])))\n",
      "            ## pred['update_t'] = r.make_timezone(pred['update_t'])\n",
      "            pred['_id'] = str(pred['_id'])\n",
      "            pred['update_t'] = pred['update_t'].replace(tzinfo=r.make_timezone('0:00'))\n",
      "            print(\"Updating \" + pred['uid'] + \" at \" + str(pred['update_t']))\n",
      "            if insert_into_rethink:\n",
      "                seen_keys[pid] = True\n",
      "                r.table('prediction').insert(pred).run(conn)\n",
      "    rep_ct++\n",
      "    time.sleep(0.1)\n"
     ],
     "language": "python",
     "metadata": {},
     "outputs": [
      {
       "output_type": "stream",
       "stream": "stdout",
       "text": [
        "Updating a1 at 2015-07-07 22:24:16.344000+00:00\n",
        "Updating a1 at 2015-07-07 22:24:27.368000+00:00"
       ]
      },
      {
       "output_type": "stream",
       "stream": "stdout",
       "text": [
        "\n",
        "Updating a1 at 2015-07-07 22:24:30.377000+00:00"
       ]
      },
      {
       "output_type": "stream",
       "stream": "stdout",
       "text": [
        "\n",
        "Updating a1 at 2015-07-07 22:24:36.391000+00:00"
       ]
      },
      {
       "output_type": "stream",
       "stream": "stdout",
       "text": [
        "\n",
        "Updating a1 at 2015-07-07 22:24:38.399000+00:00"
       ]
      },
      {
       "output_type": "stream",
       "stream": "stdout",
       "text": [
        "\n",
        "Updating a1 at 2015-07-07 22:24:41.409000+00:00"
       ]
      },
      {
       "output_type": "stream",
       "stream": "stdout",
       "text": [
        "\n",
        "Updating a1 at 2015-07-07 22:24:46.423000+00:00"
       ]
      },
      {
       "ename": "KeyboardInterrupt",
       "evalue": "",
       "output_type": "pyerr",
       "traceback": [
        "\u001b[0;31m---------------------------------------------------------------------------\u001b[0m\n\u001b[0;31mKeyboardInterrupt\u001b[0m                         Traceback (most recent call last)",
        "\u001b[0;32m<ipython-input-68-16857f01b3ab>\u001b[0m in \u001b[0;36m<module>\u001b[0;34m()\u001b[0m\n\u001b[1;32m     11\u001b[0m             \u001b[0mseen_keys\u001b[0m\u001b[0;34m[\u001b[0m\u001b[0mpid\u001b[0m\u001b[0;34m]\u001b[0m \u001b[0;34m=\u001b[0m \u001b[0;32mTrue\u001b[0m\u001b[0;34m\u001b[0m\u001b[0m\n\u001b[1;32m     12\u001b[0m             \u001b[0mr\u001b[0m\u001b[0;34m.\u001b[0m\u001b[0mtable\u001b[0m\u001b[0;34m(\u001b[0m\u001b[0;34m'prediction'\u001b[0m\u001b[0;34m)\u001b[0m\u001b[0;34m.\u001b[0m\u001b[0minsert\u001b[0m\u001b[0;34m(\u001b[0m\u001b[0mpred\u001b[0m\u001b[0;34m)\u001b[0m\u001b[0;34m.\u001b[0m\u001b[0mrun\u001b[0m\u001b[0;34m(\u001b[0m\u001b[0mconn\u001b[0m\u001b[0;34m)\u001b[0m\u001b[0;34m\u001b[0m\u001b[0m\n\u001b[0;32m---> 13\u001b[0;31m     \u001b[0mtime\u001b[0m\u001b[0;34m.\u001b[0m\u001b[0msleep\u001b[0m\u001b[0;34m(\u001b[0m\u001b[0;36m0.1\u001b[0m\u001b[0;34m)\u001b[0m\u001b[0;34m\u001b[0m\u001b[0m\n\u001b[0m",
        "\u001b[0;31mKeyboardInterrupt\u001b[0m: "
       ]
      },
      {
       "output_type": "stream",
       "stream": "stdout",
       "text": [
        "\n"
       ]
      }
     ],
     "prompt_number": 68
    },
    {
     "cell_type": "code",
     "collapsed": false,
     "input": [
      "pred = preds.find_one()\n",
      "str(pred['_id'])\n",
      "print(pred)"
     ],
     "language": "python",
     "metadata": {},
     "outputs": [
      {
       "output_type": "stream",
       "stream": "stdout",
       "text": [
        "{'loadings': {'mv_avg__peak_hr5': -21.960000000000004, 'mv_avg__steps5': 2.4379999999999926, 'mv_avg__mins_cardio5': -4.0}, 'uid': 'e5', 'dm_prob': 6.477999999999987, '_id': ObjectId('5598ac45c8812b9238f02902'), 'update_t': datetime.datetime(2015, 7, 5, 4, 21, 39, 528000)}\n"
       ]
      }
     ],
     "prompt_number": 61
    },
    {
     "cell_type": "code",
     "collapsed": false,
     "input": [
      "preds.count()"
     ],
     "language": "python",
     "metadata": {},
     "outputs": [
      {
       "metadata": {},
       "output_type": "pyout",
       "prompt_number": 66,
       "text": [
        "6"
       ]
      }
     ],
     "prompt_number": 66
    },
    {
     "cell_type": "code",
     "collapsed": false,
     "input": [
      "list(seen_keys.keys())"
     ],
     "language": "python",
     "metadata": {},
     "outputs": [
      {
       "metadata": {},
       "output_type": "pyout",
       "prompt_number": 63,
       "text": [
        "[ObjectId('5598ac77c8812b9238f02903'),\n",
        " ObjectId('5598b415c8812b9238f02907'),\n",
        " ObjectId('5598ac45c8812b9238f02902'),\n",
        " ObjectId('5598b3c4c8812b9238f02905'),\n",
        " ObjectId('5598b424c8812b9238f02909')]"
       ]
      }
     ],
     "prompt_number": 63
    },
    {
     "cell_type": "code",
     "collapsed": false,
     "input": [
      "conn = r.connect(db='test').repl()\n",
      "for doc  in r.table('tv_shows').run(conn):\n",
      "    print(doc)"
     ],
     "language": "python",
     "metadata": {},
     "outputs": [
      {
       "output_type": "stream",
       "stream": "stdout",
       "text": [
        "{'id': 'd59bab66-d81e-4dae-ad5b-e8e3552ee772', 'episodes': 178, 'name': 'Star Trek TNG'}\n",
        "{'id': 'd69f249d-e189-40d8-8d37-8fa4dd2abd84', 'episodes': 75, 'name': 'Battlestar Galactica'}\n"
       ]
      }
     ],
     "prompt_number": 28
    },
    {
     "cell_type": "code",
     "collapsed": false,
     "input": [
      "str(time.localtime())"
     ],
     "language": "python",
     "metadata": {},
     "outputs": [
      {
       "metadata": {},
       "output_type": "pyout",
       "prompt_number": 59,
       "text": [
        "'time.struct_time(tm_year=2015, tm_mon=7, tm_mday=7, tm_hour=15, tm_min=16, tm_sec=31, tm_wday=1, tm_yday=188, tm_isdst=1)'"
       ]
      }
     ],
     "prompt_number": 59
    }
   ],
   "metadata": {}
  }
 ]
}